{
  "cells": [
    {
      "cell_type": "markdown",
      "metadata": {
        "id": "view-in-github",
        "colab_type": "text"
      },
      "source": [
        "<a href=\"https://colab.research.google.com/github/Buse-cetin/Cekilis_Projesi/blob/main/Cekilis_Projesi.ipynb\" target=\"_parent\"><img src=\"https://colab.research.google.com/assets/colab-badge.svg\" alt=\"Open In Colab\"/></a>"
      ]
    },
    {
      "cell_type": "code",
      "execution_count": null,
      "metadata": {
        "colab": {
          "background_save": true,
          "base_uri": "https://localhost:8080/"
        },
        "id": "PzTqemS8Xxo7",
        "outputId": "44a99b93-7732-448b-a8d1-ca859b815af8"
      },
      "outputs": [
        {
          "name": "stdout",
          "output_type": "stream",
          "text": [
            "Çekilişi Başlatmak İçin 'başlat',\n",
            " İptal Etmek İçin 'iptal' Yaz.\n",
            "Kazananlar: ['mehmet', 'ebru']\n",
            "Çekiliş İptal Edilmiştir.\n"
          ]
        }
      ],
      "source": [
        "import random\n",
        "liste=[]\n",
        "print(\"Çekilişi Başlatmak İçin 'başlat',\\n İptal Etmek İçin 'iptal' Yaz.\")\n",
        "while True:\n",
        "  try:\n",
        "    giris=input(\"Çekilişe Katılacak Kişiler: \")\n",
        "    if giris==\"iptal\":\n",
        "      sor=input(\"Kişiyi mi iptal edeceksiniz (kisi),Yoksa çekilişi mi? (cekilis) \\n :\")\n",
        "      if sor==\"kisi\":\n",
        "        sor1=input(\"Kimi iptal etmek istiyorsun?\\n \")\n",
        "        if sor1 in liste:\n",
        "          yer=liste.index(sor1)\n",
        "          liste.pop(yer)\n",
        "          print(\"Kişiyi Çekilişten İptal Ettik.\")\n",
        "          print(liste)\n",
        "        else:\n",
        "          print(\"Böyle Bir Kişi Çekilişte Yok.\")\n",
        "          print(liste)\n",
        "\n",
        "      elif sor==\"cekilis\":\n",
        "        try:\n",
        "          while True:\n",
        "            liste.pop()\n",
        "        except:\n",
        "          print(\"Çekiliş İptal Edilmiştir.\")\n",
        "    elif giris==\"başlat\":\n",
        "      sor2=int(input(\"Kaç Kişi Kazanacak? :\"))\n",
        "      sonuc=random.sample(liste, sor2)\n",
        "\n",
        "      if len(liste)<sor2 :\n",
        "       print(\"Kazanacak Olanlar Girilen Kişi Sayısından Fazla Olamaz! \")\n",
        "       print(\"Lütfen Tekrar Deneyin!\")\n",
        "\n",
        "      else:\n",
        "       print(\"Kazananlar:\",sonuc)      \n",
        "    else:\n",
        "      liste.append(giris)\n",
        "  except:\n",
        "    print(\"Hatalı Giriş Yaptınız, Lütfen Tekrar Deneyiniz!\")\n"
      ]
    }
  ],
  "metadata": {
    "colab": {
      "provenance": [],
      "authorship_tag": "ABX9TyNDH/vuN4ZbXWXM6rBsMzao",
      "include_colab_link": true
    },
    "kernelspec": {
      "display_name": "Python 3",
      "name": "python3"
    },
    "language_info": {
      "name": "python"
    }
  },
  "nbformat": 4,
  "nbformat_minor": 0
}